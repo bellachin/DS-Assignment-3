{
 "cells": [
  {
   "cell_type": "markdown",
   "metadata": {},
   "source": [
    "# DS 3000 - Assignment 3\n",
    "\n",
    "**Student Name**: Bella Chin\n",
    "\n",
    "**Date**: 09/18/2024\n",
    "\n",
    "\n",
    "### Submission Instructions\n",
    "Submit this `ipynb` file to canvas.\n",
    "\n",
    "The `ipynb` format stores outputs from the last time you ran the notebook.  (When you open a notebook it has the figures and outputs of the last time you ran it too).  To ensure that your submitted `ipynb` file represents your latest code, make sure to give a fresh run `Kernel > Restart & Run All` just before uploading the `ipynb` file to Canvas.\n",
    "\n",
    "### Academic Integrity\n",
    "\n",
    "**Writing your homework is an individual effort.**  You may discuss general python problems with other students but under no circumstances should you observe another student's code which was written for this assignment, from this year or past years.  Pop into office hours or DM us in MS Teams if you have a specific question about your work or if you would like another pair of eyes or talk through your code.\n",
    "\n",
    "Don't forget to cite websites which helped you solve a problem in a unique way.  You can do this in markdown near the code or with a simple one-line comment. You do not need to cite the official python documentation.\n",
    "\n",
    "**Documentation / style counts for credit**  Please refer to the Pep-8 style, to improve the readability and consistency of your Python code. For more information, read the following article [How to Write Beautiful Python Code With PEP 8](https://realpython.com/python-pep8/) or ask your TA's for tips.\n",
    "\n",
    "**NOTE:<span style='color:red'> Write python expressions to answer ALL questions below and ensure that you use the `print()` function to display the output.</span>** Each question should be answered in a new code cell. For example, your solution for question 1.1 should be in a different code cell from your solution for question 1.2."
   ]
  },
  {
   "cell_type": "markdown",
   "metadata": {},
   "source": [
    "## Data Science Problem (50 pts)\n",
    "### Instructions\n",
    "\n",
    "You are hired as a Data Scientist for the NYC Taxi and Limousine Commission (TLC) and this company routinely collects trip data from all licensed cabs in NY. Your team would like to use this data in the future to understand how New Yorkers use these taxis. Your first assignment is to **analyze the data of the Green Taxis, and determine if its a viable source.**\n",
    "\n",
    "Your supervisor has requested that you perform your analysis using data from February 2023 and would like for you to present your findings during the next team meeting. Use a Jupyter notebook to explain your data wrangling and analytical steps to your colleagues. \n",
    "\n",
    "**Data & Documentation**\n",
    "\n",
    "- **Data Source:** https://d37ci6vzurychx.cloudfront.net/trip-data/green_tripdata_2023-02.parquet\n",
    "- **Data Dictionary:** [Green Trips Data Dictionary](https://www1.nyc.gov/assets/tlc/downloads/pdf/data_dictionary_trip_records_green.pdf).\n",
    "\n",
    "The TLC trip record data and a description of the initiative can be found at the following link: https://www1.nyc.gov/site/tlc/about/tlc-trip-record-data.page\n",
    "\n",
    "**`Note:`** Ensure that you explain the results from each question.\n",
    "\n",
    "\n",
    "**In this assignment you will use the Pandas library. Pandas allows us to load data that's stored in a various formats, e.g. excel, csv, txt, parquet, etc. In this assignment, you will learn to read data in parquet format which is one of the preferred formats when working with `Big Data`. [Click here to learn more about parquet files](https://towardsdatascience.com/csv-files-for-storage-no-thanks-theres-a-better-option-72c78a414d1d)**\n",
    "\n",
    "I also provided starter code below to help you to read the data in parquet format. First, you'll need to install a new library called *fastparquet*."
   ]
  },
  {
   "cell_type": "code",
   "execution_count": 3,
   "metadata": {},
   "outputs": [
    {
     "name": "stdout",
     "output_type": "stream",
     "text": [
      "Requirement already satisfied: fastparquet in /opt/anaconda3/lib/python3.12/site-packages (2024.5.0)\n",
      "Requirement already satisfied: pandas>=1.5.0 in /opt/anaconda3/lib/python3.12/site-packages (from fastparquet) (2.2.2)\n",
      "Requirement already satisfied: numpy in /opt/anaconda3/lib/python3.12/site-packages (from fastparquet) (1.26.4)\n",
      "Requirement already satisfied: cramjam>=2.3 in /opt/anaconda3/lib/python3.12/site-packages (from fastparquet) (2.8.3)\n",
      "Requirement already satisfied: fsspec in /opt/anaconda3/lib/python3.12/site-packages (from fastparquet) (2024.3.1)\n",
      "Requirement already satisfied: packaging in /opt/anaconda3/lib/python3.12/site-packages (from fastparquet) (23.2)\n",
      "Requirement already satisfied: python-dateutil>=2.8.2 in /opt/anaconda3/lib/python3.12/site-packages (from pandas>=1.5.0->fastparquet) (2.9.0.post0)\n",
      "Requirement already satisfied: pytz>=2020.1 in /opt/anaconda3/lib/python3.12/site-packages (from pandas>=1.5.0->fastparquet) (2024.1)\n",
      "Requirement already satisfied: tzdata>=2022.7 in /opt/anaconda3/lib/python3.12/site-packages (from pandas>=1.5.0->fastparquet) (2023.3)\n",
      "Requirement already satisfied: six>=1.5 in /opt/anaconda3/lib/python3.12/site-packages (from python-dateutil>=2.8.2->pandas>=1.5.0->fastparquet) (1.16.0)\n"
     ]
    }
   ],
   "source": [
    "#run this cell to install the fast parquet library\n",
    "!pip install fastparquet"
   ]
  },
  {
   "cell_type": "code",
   "execution_count": 4,
   "metadata": {},
   "outputs": [],
   "source": [
    "import pandas as pd"
   ]
  },
  {
   "cell_type": "markdown",
   "metadata": {},
   "source": [
    "## 1. Load the data\n",
    "Load the NYC Green Taxi Trip Records data directly from the URL into a data frame called tripdata_df. "
   ]
  },
  {
   "cell_type": "code",
   "execution_count": 6,
   "metadata": {},
   "outputs": [],
   "source": [
    "#let's load the data into a dataframe\n",
    "\n",
    "tripdata_df = pd.read_parquet(path = 'https://d37ci6vzurychx.cloudfront.net/trip-data/green_tripdata_2023-02.parquet', #provide the URL to the data source\n",
    "                      engine = 'fastparquet')\n",
    "\n",
    "#Note: you'll notice two new things. 1) We are using a new function called `read_parquet()` which indicates that we are \n",
    "#      reading data in parquet format. 2) We used the fastparquet library as the engine. \n",
    "#      That's it! Pandas will load the data into a dataframe. You can now use the dataframe for EDA.\n",
    "\n",
    "# Reminder: How does Pandas read other file formats?\n",
    "# 1. Excel files: pd.read_excel()\n",
    "# 2. CSV Files: pd.read_csv()\n",
    "# ... and now you know how to read parquet files using pd.read_parquet()\n"
   ]
  },
  {
   "cell_type": "markdown",
   "metadata": {},
   "source": [
    "## 2. Inspect the Data (5 pts) \n",
    "Inspect the data and perform the following: \n",
    "1. display the dimensions, and indicate if the variables have suitable types.\n",
    "2. convert all variables to suitable types"
   ]
  },
  {
   "cell_type": "code",
   "execution_count": 8,
   "metadata": {},
   "outputs": [
    {
     "name": "stdout",
     "output_type": "stream",
     "text": [
      "There are 64809 rows and 20 columns.\n",
      "Some of the variables do not have suitable types. For example, passenger_count was previously a float, however, people cannot be a decimal number. Below, I have written the code to convert the variables to suitable types and printed the types of the variables after.\n",
      "\n",
      "Data types of variables before converting:\n",
      " VendorID                        float64\n",
      "lpep_pickup_datetime     datetime64[us]\n",
      "lpep_dropoff_datetime    datetime64[us]\n",
      "store_and_fwd_flag               object\n",
      "RatecodeID                      float64\n",
      "PULocationID                    float64\n",
      "DOLocationID                    float64\n",
      "passenger_count                 float64\n",
      "trip_distance                   float64\n",
      "fare_amount                     float64\n",
      "extra                           float64\n",
      "mta_tax                         float64\n",
      "tip_amount                      float64\n",
      "tolls_amount                    float64\n",
      "ehail_fee                       float64\n",
      "improvement_surcharge           float64\n",
      "total_amount                    float64\n",
      "payment_type                    float64\n",
      "trip_type                       float64\n",
      "congestion_surcharge            float64\n",
      "dtype: object\n",
      "Data types of variables after converting:\n",
      " VendorID                       category\n",
      "lpep_pickup_datetime     datetime64[us]\n",
      "lpep_dropoff_datetime    datetime64[us]\n",
      "store_and_fwd_flag             category\n",
      "RatecodeID                     category\n",
      "PULocationID                      Int64\n",
      "DOLocationID                      Int64\n",
      "passenger_count                   Int64\n",
      "trip_distance                   Float64\n",
      "fare_amount                     Float64\n",
      "extra                           Float64\n",
      "mta_tax                         Float64\n",
      "tip_amount                      Float64\n",
      "tolls_amount                    Float64\n",
      "ehail_fee                       Float64\n",
      "improvement_surcharge           Float64\n",
      "total_amount                    Float64\n",
      "payment_type                   category\n",
      "trip_type                      category\n",
      "congestion_surcharge            Float64\n",
      "dtype: object\n"
     ]
    }
   ],
   "source": [
    "# inspect the dimensions\n",
    "print('There are {} rows and {} columns.'.format(tripdata_df.shape[0], tripdata_df.shape[1]))\n",
    "\n",
    "# view samples of the data\n",
    "tripdata_df.head()\n",
    "\n",
    "#indicate if variables have suitable types\n",
    "print(\"Some of the variables do not have suitable types.\",\n",
    "\"For example, passenger_count was previously a float, however, people cannot be a decimal number.\",\n",
    "      \"Below, I have written the code to convert the variables to suitable types and printed the types of the variables after.\\n\")\n",
    "print(\"Data types of variables before converting:\\n\", tripdata_df.dtypes)\n",
    "# Convert the fields to best possible type \n",
    "tripdata_df = tripdata_df.convert_dtypes()\n",
    "\n",
    "#Convert fields to its most suitable type based on my belief\n",
    "tripdata_df['VendorID'] = tripdata_df['VendorID'].astype('category')\n",
    "tripdata_df['store_and_fwd_flag'] = tripdata_df['store_and_fwd_flag'].astype('category')\n",
    "tripdata_df['RatecodeID'] = tripdata_df['RatecodeID'].astype('category')\n",
    "tripdata_df['payment_type'] = tripdata_df['payment_type'].astype('category')\n",
    "tripdata_df['trip_type'] = tripdata_df['trip_type'].astype('category')\n",
    "tripdata_df['ehail_fee'] = tripdata_df['ehail_fee'].astype('Float64')\n",
    "\n",
    "\n",
    "tripdata_df['passenger_count'] = tripdata_df['passenger_count'].astype('Int64')\n",
    "\n",
    "# Verifying the change of variables occurred\n",
    "print(\"Data types of variables after converting:\\n\",tripdata_df.dtypes)\n"
   ]
  },
  {
   "cell_type": "code",
   "execution_count": 9,
   "metadata": {},
   "outputs": [
    {
     "data": {
      "text/html": [
       "<div>\n",
       "<style scoped>\n",
       "    .dataframe tbody tr th:only-of-type {\n",
       "        vertical-align: middle;\n",
       "    }\n",
       "\n",
       "    .dataframe tbody tr th {\n",
       "        vertical-align: top;\n",
       "    }\n",
       "\n",
       "    .dataframe thead th {\n",
       "        text-align: right;\n",
       "    }\n",
       "</style>\n",
       "<table border=\"1\" class=\"dataframe\">\n",
       "  <thead>\n",
       "    <tr style=\"text-align: right;\">\n",
       "      <th></th>\n",
       "      <th>VendorID</th>\n",
       "      <th>lpep_pickup_datetime</th>\n",
       "      <th>lpep_dropoff_datetime</th>\n",
       "      <th>store_and_fwd_flag</th>\n",
       "      <th>RatecodeID</th>\n",
       "      <th>PULocationID</th>\n",
       "      <th>DOLocationID</th>\n",
       "      <th>passenger_count</th>\n",
       "      <th>trip_distance</th>\n",
       "      <th>fare_amount</th>\n",
       "      <th>extra</th>\n",
       "      <th>mta_tax</th>\n",
       "      <th>tip_amount</th>\n",
       "      <th>tolls_amount</th>\n",
       "      <th>ehail_fee</th>\n",
       "      <th>improvement_surcharge</th>\n",
       "      <th>total_amount</th>\n",
       "      <th>payment_type</th>\n",
       "      <th>trip_type</th>\n",
       "      <th>congestion_surcharge</th>\n",
       "    </tr>\n",
       "  </thead>\n",
       "  <tbody>\n",
       "    <tr>\n",
       "      <th>0</th>\n",
       "      <td>1</td>\n",
       "      <td>2023-02-01 00:46:22</td>\n",
       "      <td>2023-02-01 01:05:57</td>\n",
       "      <td>N</td>\n",
       "      <td>1</td>\n",
       "      <td>74</td>\n",
       "      <td>265</td>\n",
       "      <td>1</td>\n",
       "      <td>10.8</td>\n",
       "      <td>42.9</td>\n",
       "      <td>1.0</td>\n",
       "      <td>1.5</td>\n",
       "      <td>0.0</td>\n",
       "      <td>0.0</td>\n",
       "      <td>&lt;NA&gt;</td>\n",
       "      <td>1.0</td>\n",
       "      <td>45.4</td>\n",
       "      <td>2</td>\n",
       "      <td>1</td>\n",
       "      <td>0.0</td>\n",
       "    </tr>\n",
       "    <tr>\n",
       "      <th>1</th>\n",
       "      <td>2</td>\n",
       "      <td>2023-02-01 00:05:09</td>\n",
       "      <td>2023-02-01 00:22:42</td>\n",
       "      <td>N</td>\n",
       "      <td>1</td>\n",
       "      <td>216</td>\n",
       "      <td>196</td>\n",
       "      <td>1</td>\n",
       "      <td>4.76</td>\n",
       "      <td>23.3</td>\n",
       "      <td>1.0</td>\n",
       "      <td>0.5</td>\n",
       "      <td>0.0</td>\n",
       "      <td>0.0</td>\n",
       "      <td>&lt;NA&gt;</td>\n",
       "      <td>1.0</td>\n",
       "      <td>25.8</td>\n",
       "      <td>2</td>\n",
       "      <td>1</td>\n",
       "      <td>0.0</td>\n",
       "    </tr>\n",
       "    <tr>\n",
       "      <th>2</th>\n",
       "      <td>2</td>\n",
       "      <td>2023-02-01 00:03:47</td>\n",
       "      <td>2023-02-01 00:27:30</td>\n",
       "      <td>N</td>\n",
       "      <td>1</td>\n",
       "      <td>7</td>\n",
       "      <td>114</td>\n",
       "      <td>1</td>\n",
       "      <td>6.32</td>\n",
       "      <td>30.3</td>\n",
       "      <td>1.0</td>\n",
       "      <td>0.5</td>\n",
       "      <td>8.89</td>\n",
       "      <td>0.0</td>\n",
       "      <td>&lt;NA&gt;</td>\n",
       "      <td>1.0</td>\n",
       "      <td>44.44</td>\n",
       "      <td>1</td>\n",
       "      <td>1</td>\n",
       "      <td>2.75</td>\n",
       "    </tr>\n",
       "    <tr>\n",
       "      <th>3</th>\n",
       "      <td>2</td>\n",
       "      <td>2023-01-31 23:30:56</td>\n",
       "      <td>2023-01-31 23:51:40</td>\n",
       "      <td>N</td>\n",
       "      <td>1</td>\n",
       "      <td>74</td>\n",
       "      <td>239</td>\n",
       "      <td>1</td>\n",
       "      <td>3.5</td>\n",
       "      <td>16.3</td>\n",
       "      <td>1.0</td>\n",
       "      <td>0.5</td>\n",
       "      <td>0.0</td>\n",
       "      <td>0.0</td>\n",
       "      <td>&lt;NA&gt;</td>\n",
       "      <td>1.0</td>\n",
       "      <td>21.55</td>\n",
       "      <td>2</td>\n",
       "      <td>1</td>\n",
       "      <td>2.75</td>\n",
       "    </tr>\n",
       "    <tr>\n",
       "      <th>4</th>\n",
       "      <td>2</td>\n",
       "      <td>2023-02-01 00:15:05</td>\n",
       "      <td>2023-02-01 00:26:02</td>\n",
       "      <td>N</td>\n",
       "      <td>1</td>\n",
       "      <td>82</td>\n",
       "      <td>223</td>\n",
       "      <td>1</td>\n",
       "      <td>3.14</td>\n",
       "      <td>17.0</td>\n",
       "      <td>1.0</td>\n",
       "      <td>0.5</td>\n",
       "      <td>0.0</td>\n",
       "      <td>0.0</td>\n",
       "      <td>&lt;NA&gt;</td>\n",
       "      <td>1.0</td>\n",
       "      <td>19.5</td>\n",
       "      <td>2</td>\n",
       "      <td>1</td>\n",
       "      <td>0.0</td>\n",
       "    </tr>\n",
       "  </tbody>\n",
       "</table>\n",
       "</div>"
      ],
      "text/plain": [
       "  VendorID lpep_pickup_datetime lpep_dropoff_datetime store_and_fwd_flag  \\\n",
       "0        1  2023-02-01 00:46:22   2023-02-01 01:05:57                  N   \n",
       "1        2  2023-02-01 00:05:09   2023-02-01 00:22:42                  N   \n",
       "2        2  2023-02-01 00:03:47   2023-02-01 00:27:30                  N   \n",
       "3        2  2023-01-31 23:30:56   2023-01-31 23:51:40                  N   \n",
       "4        2  2023-02-01 00:15:05   2023-02-01 00:26:02                  N   \n",
       "\n",
       "  RatecodeID  PULocationID  DOLocationID  passenger_count  trip_distance  \\\n",
       "0          1            74           265                1           10.8   \n",
       "1          1           216           196                1           4.76   \n",
       "2          1             7           114                1           6.32   \n",
       "3          1            74           239                1            3.5   \n",
       "4          1            82           223                1           3.14   \n",
       "\n",
       "   fare_amount  extra  mta_tax  tip_amount  tolls_amount  ehail_fee  \\\n",
       "0         42.9    1.0      1.5         0.0           0.0       <NA>   \n",
       "1         23.3    1.0      0.5         0.0           0.0       <NA>   \n",
       "2         30.3    1.0      0.5        8.89           0.0       <NA>   \n",
       "3         16.3    1.0      0.5         0.0           0.0       <NA>   \n",
       "4         17.0    1.0      0.5         0.0           0.0       <NA>   \n",
       "\n",
       "   improvement_surcharge  total_amount payment_type trip_type  \\\n",
       "0                    1.0          45.4            2         1   \n",
       "1                    1.0          25.8            2         1   \n",
       "2                    1.0         44.44            1         1   \n",
       "3                    1.0         21.55            2         1   \n",
       "4                    1.0          19.5            2         1   \n",
       "\n",
       "   congestion_surcharge  \n",
       "0                   0.0  \n",
       "1                   0.0  \n",
       "2                  2.75  \n",
       "3                  2.75  \n",
       "4                   0.0  "
      ]
     },
     "execution_count": 9,
     "metadata": {},
     "output_type": "execute_result"
    }
   ],
   "source": [
    "tripdata_df.head()\n"
   ]
  },
  {
   "cell_type": "code",
   "execution_count": 10,
   "metadata": {},
   "outputs": [
    {
     "name": "stdout",
     "output_type": "stream",
     "text": [
      "<class 'pandas.core.frame.DataFrame'>\n",
      "RangeIndex: 64809 entries, 0 to 64808\n",
      "Data columns (total 20 columns):\n",
      " #   Column                 Non-Null Count  Dtype         \n",
      "---  ------                 --------------  -----         \n",
      " 0   VendorID               64809 non-null  category      \n",
      " 1   lpep_pickup_datetime   64809 non-null  datetime64[us]\n",
      " 2   lpep_dropoff_datetime  64809 non-null  datetime64[us]\n",
      " 3   store_and_fwd_flag     59988 non-null  category      \n",
      " 4   RatecodeID             59988 non-null  category      \n",
      " 5   PULocationID           64809 non-null  Int64         \n",
      " 6   DOLocationID           64809 non-null  Int64         \n",
      " 7   passenger_count        59988 non-null  Int64         \n",
      " 8   trip_distance          64809 non-null  Float64       \n",
      " 9   fare_amount            64809 non-null  Float64       \n",
      " 10  extra                  64809 non-null  Float64       \n",
      " 11  mta_tax                64809 non-null  Float64       \n",
      " 12  tip_amount             64809 non-null  Float64       \n",
      " 13  tolls_amount           64809 non-null  Float64       \n",
      " 14  ehail_fee              0 non-null      Float64       \n",
      " 15  improvement_surcharge  64809 non-null  Float64       \n",
      " 16  total_amount           64809 non-null  Float64       \n",
      " 17  payment_type           59988 non-null  category      \n",
      " 18  trip_type              59983 non-null  category      \n",
      " 19  congestion_surcharge   59988 non-null  Float64       \n",
      "dtypes: Float64(10), Int64(3), category(5), datetime64[us](2)\n",
      "memory usage: 8.5 MB\n"
     ]
    }
   ],
   "source": [
    "# see if data is represented correctly\n",
    "tripdata_df.info()"
   ]
  },
  {
   "cell_type": "markdown",
   "metadata": {},
   "source": [
    "## 3. Types of Data (2 pts) \n",
    "Are there any categorical data in this dataset. If they exist, demonstrate at least two categorical variables and indicate if they are nominal or ordinal (hint: read the data dictionary above which describes all fields in the data)"
   ]
  },
  {
   "cell_type": "markdown",
   "metadata": {},
   "source": [
    "There are categorical data in this data set.RatecodeID and VendorID are examples of categorical data in the dataset. VendorID is a nominal categorical data type because it contains two different values indicating the LPEP provider, but there is no inherent order between these two categories. For example, in the sample of the data below, VendorID either has a 1 or a 2, with both being a LPEP provider but just different companies. RatecodeID is an example of a nominal categorical data type because although it indicates different types of rates for different types of rides, there is no inherent order between the categories for the rates. \n",
    "\n"
   ]
  },
  {
   "cell_type": "code",
   "execution_count": 13,
   "metadata": {},
   "outputs": [
    {
     "name": "stdout",
     "output_type": "stream",
     "text": [
      "Categories of RatecodeID: [1]\n",
      "Categories (7, Int64): [1, 2, 3, 4, 5, 6, 99]\n",
      "Categories of VendorID: [1, 2]\n",
      "Categories (2, Int64): [1, 2]\n"
     ]
    }
   ],
   "source": [
    "print(\"Categories of RatecodeID:\",tripdata_df['RatecodeID'].head().unique())\n",
    "print(\"Categories of VendorID:\",tripdata_df['VendorID'].head().unique())"
   ]
  },
  {
   "cell_type": "markdown",
   "metadata": {},
   "source": [
    "## 4. Missing Values (10 pts) \n",
    "Evaluate the frequency of missing values in the dataset and perform the following:\n",
    "1. explain if missing values are an isolated case or a widespread issue? \n",
    "2. what method would you recommend to handle missing data?\n",
    "3. write the suitable code to handle the missing values."
   ]
  },
  {
   "cell_type": "markdown",
   "metadata": {},
   "source": [
    "1. The code below checks the frequency of missing values within the dataframe. This output shows that store_and_fwd_flag, RatecodeID, passenger_count, ehail_fee, payment_type, trip_type, and congestion_surcharge has a lot of missing values. Ehail_fee is missing all of its values when you check it with the data size. Comparatively, store_and_fwd_flag, RatecodeID, passenger_count, payment_type, and congestion_surcharge is missing around 7% of its data in the dataframe. So, ehail_fee is a widespread issue and the rest is an isolated case."
   ]
  },
  {
   "cell_type": "code",
   "execution_count": 16,
   "metadata": {},
   "outputs": [
    {
     "name": "stdout",
     "output_type": "stream",
     "text": [
      "VendorID                     0\n",
      "lpep_pickup_datetime         0\n",
      "lpep_dropoff_datetime        0\n",
      "store_and_fwd_flag        4821\n",
      "RatecodeID                4821\n",
      "PULocationID                 0\n",
      "DOLocationID                 0\n",
      "passenger_count           4821\n",
      "trip_distance                0\n",
      "fare_amount                  0\n",
      "extra                        0\n",
      "mta_tax                      0\n",
      "tip_amount                   0\n",
      "tolls_amount                 0\n",
      "ehail_fee                64809\n",
      "improvement_surcharge        0\n",
      "total_amount                 0\n",
      "payment_type              4821\n",
      "trip_type                 4826\n",
      "congestion_surcharge      4821\n",
      "dtype: int64\n"
     ]
    }
   ],
   "source": [
    "# check frequency of null values in each column\n",
    "print(tripdata_df.isnull().sum())"
   ]
  },
  {
   "cell_type": "markdown",
   "metadata": {},
   "source": [
    "2. The method I would recommend to handle missing data is deletion for ehail_fee because we want to remove any rows from the data frame since there is a widespread issue of missing values and ehail_fee is missing all of its values from the dataframe. For the other variables, I would recommend imputation since only about 7% of the data is missing compared to ehail_fee."
   ]
  },
  {
   "cell_type": "code",
   "execution_count": 18,
   "metadata": {},
   "outputs": [
    {
     "name": "stdout",
     "output_type": "stream",
     "text": [
      "trip_type\n",
      "1      58270\n",
      "NaN     4826\n",
      "2       1713\n",
      "Name: count, dtype: int64\n",
      "store_and_fwd_flag\n",
      "N       59779\n",
      "<NA>     4821\n",
      "Y         209\n",
      "Name: count, dtype: int64\n",
      "RatecodeID\n",
      "1      57911\n",
      "NaN     4821\n",
      "5       1828\n",
      "2        154\n",
      "4         51\n",
      "3         38\n",
      "99         5\n",
      "6          1\n",
      "Name: count, dtype: int64\n",
      "passenger_count\n",
      "1       51310\n",
      "<NA>     4821\n",
      "2        4671\n",
      "5        1559\n",
      "3         896\n",
      "6         895\n",
      "0         370\n",
      "4         282\n",
      "8           2\n",
      "7           2\n",
      "9           1\n",
      "Name: count, dtype: Int64\n",
      "payment_type\n",
      "1      38549\n",
      "2      20844\n",
      "NaN     4821\n",
      "3        481\n",
      "4        114\n",
      "Name: count, dtype: int64\n",
      "congestion_surcharge\n",
      " 0.0     43973\n",
      " 2.75    16009\n",
      " <NA>     4821\n",
      "-2.75        4\n",
      " 2.5         2\n",
      "Name: count, dtype: Int64\n",
      "(64809, 19)\n",
      "VendorID                 0\n",
      "lpep_pickup_datetime     0\n",
      "lpep_dropoff_datetime    0\n",
      "store_and_fwd_flag       0\n",
      "RatecodeID               0\n",
      "PULocationID             0\n",
      "DOLocationID             0\n",
      "passenger_count          0\n",
      "trip_distance            0\n",
      "fare_amount              0\n",
      "extra                    0\n",
      "mta_tax                  0\n",
      "tip_amount               0\n",
      "tolls_amount             0\n",
      "improvement_surcharge    0\n",
      "total_amount             0\n",
      "payment_type             0\n",
      "trip_type                0\n",
      "congestion_surcharge     0\n",
      "dtype: int64\n"
     ]
    }
   ],
   "source": [
    "# handle missing data -- deletion\n",
    "tripdata_df = tripdata_df.drop('ehail_fee', axis = 1)\n",
    "\n",
    "#handle missing data that we need -- imputation\n",
    "missingList = ['trip_type','store_and_fwd_flag','RatecodeID','passenger_count','payment_type','congestion_surcharge']\n",
    "# check the most frequently occuring category\n",
    "for type in missingList:\n",
    "    print(tripdata_df[type].value_counts(dropna=False))\n",
    "\n",
    "#change the missing data to the most frequent occuring category\n",
    "for var in missingList:\n",
    "    tripdata_df[var] = tripdata_df[var].fillna(tripdata_df[var].mode()[0])\n",
    "\n",
    "# check the size of the data frame after removing missing values\n",
    "print(tripdata_df.shape)\n",
    "\n",
    "#check the frequency of missing values after removing them\n",
    "print(tripdata_df.isnull().sum())"
   ]
  },
  {
   "cell_type": "markdown",
   "metadata": {},
   "source": [
    "## 5. Invalid Data (10 pts) \n",
    "Explore the data to determine if there are any invalid values and perform the following: \n",
    "1. demonstrate at least three issues that you found. **`NOTE`: The issues that you found should not include any aspects from the previous questions.**\n",
    "2. write suitable code to handle the invalid data that you found."
   ]
  },
  {
   "cell_type": "code",
   "execution_count": 20,
   "metadata": {},
   "outputs": [
    {
     "name": "stdout",
     "output_type": "stream",
     "text": [
      "             lpep_pickup_datetime       lpep_dropoff_datetime  PULocationID  \\\n",
      "count                       64809                       64809       64809.0   \n",
      "mean   2023-02-14 19:27:48.982888  2023-02-14 19:45:33.676680     99.988273   \n",
      "min           2008-12-31 23:02:29         2009-01-01 16:41:01           1.0   \n",
      "25%           2023-02-07 22:34:54         2023-02-07 23:01:51          74.0   \n",
      "50%           2023-02-14 19:24:38         2023-02-14 19:40:34          75.0   \n",
      "75%           2023-02-21 21:36:21         2023-02-21 21:52:19         129.0   \n",
      "max           2023-03-01 00:01:06         2023-03-01 16:51:02         265.0   \n",
      "std                           NaN                         NaN       61.7118   \n",
      "\n",
      "       DOLocationID  passenger_count  trip_distance  fare_amount     extra  \\\n",
      "count       64809.0          64809.0        64809.0      64809.0   64809.0   \n",
      "mean     139.065809         1.272863      13.696354    16.646276   0.84427   \n",
      "min             1.0              0.0            0.0      -113.49      -2.5   \n",
      "25%            74.0              1.0           1.13          9.3       0.0   \n",
      "50%           138.0              1.0           1.89         13.5       0.0   \n",
      "75%           219.0              1.0           3.35         19.8       1.0   \n",
      "max           265.0              9.0      178919.98        440.0      12.7   \n",
      "std       76.378947          0.91189     931.311966    12.650412  1.280076   \n",
      "\n",
      "        mta_tax  tip_amount  tolls_amount  improvement_surcharge  \\\n",
      "count   64809.0     64809.0       64809.0                64809.0   \n",
      "mean   0.571364    2.153087      0.182798               0.952858   \n",
      "min        -0.5        -0.9         -6.55                   -1.0   \n",
      "25%         0.5         0.0           0.0                    1.0   \n",
      "50%         0.5        1.72           0.0                    1.0   \n",
      "75%         0.5        3.35           0.0                    1.0   \n",
      "max        4.25        80.0         45.35                    1.0   \n",
      "std    0.386753    2.846365      1.161675               0.198828   \n",
      "\n",
      "       total_amount  congestion_surcharge  \n",
      "count       64809.0               64809.0  \n",
      "mean      21.884576              0.679207  \n",
      "min          -94.84                 -2.75  \n",
      "25%           12.96                   0.0  \n",
      "50%            18.0                   0.0  \n",
      "75%           26.32                   0.0  \n",
      "max           441.0                  2.75  \n",
      "std       14.721413              1.186353  \n"
     ]
    }
   ],
   "source": [
    "# give summary statistics\n",
    "print(tripdata_df.describe())"
   ]
  },
  {
   "cell_type": "markdown",
   "metadata": {},
   "source": [
    "1. One issue I found of invalid data is fare_amount. Fare_amount cannot be a negative amount since it is how much it costs for the time and distance of a trip. Another issue I found of invalid data is the tip_amount. Tip_amount cannot be a negative amount as well because tip is an extra amount a customer pays if they like the service, it cannot be below 0. Additionally, another issue I found is the extra column. In one of the rows for the extra column, the amount is negative. However, extra cannot be negative because it is a miscellaneous extra and surcharge, meaning the least it could be is 0 and fees would be added if anything extra was needed."
   ]
  },
  {
   "cell_type": "code",
   "execution_count": 22,
   "metadata": {},
   "outputs": [
    {
     "name": "stdout",
     "output_type": "stream",
     "text": [
      "             lpep_pickup_datetime       lpep_dropoff_datetime  PULocationID  \\\n",
      "count                       64621                       64621       64621.0   \n",
      "mean   2023-02-14 19:25:30.876975  2023-02-14 19:43:18.025580     99.966451   \n",
      "min           2008-12-31 23:02:29         2009-01-01 16:41:01           1.0   \n",
      "25%           2023-02-07 22:27:11         2023-02-07 22:55:00          74.0   \n",
      "50%           2023-02-14 19:23:00         2023-02-14 19:39:45          75.0   \n",
      "75%           2023-02-21 21:33:01         2023-02-21 21:46:54         129.0   \n",
      "max           2023-03-01 00:01:06         2023-03-01 16:51:02         265.0   \n",
      "std                           NaN                         NaN     61.699485   \n",
      "\n",
      "       DOLocationID  passenger_count  trip_distance  fare_amount     extra  \\\n",
      "count       64621.0          64621.0        64621.0      64621.0   64621.0   \n",
      "mean     139.153557         1.272404      13.735209    16.711824  0.849218   \n",
      "min             1.0              0.0            0.0          0.0       0.0   \n",
      "25%            74.0              1.0           1.13          9.3       0.0   \n",
      "50%           138.0              1.0           1.89         13.5       0.0   \n",
      "75%           219.0              1.0           3.36         19.8       1.0   \n",
      "max           265.0              9.0      178919.98        440.0      12.7   \n",
      "std       76.390367         0.911411     932.665439    12.596212  1.277254   \n",
      "\n",
      "        mta_tax  tip_amount  tolls_amount  improvement_surcharge  \\\n",
      "count   64621.0     64621.0       64621.0                64621.0   \n",
      "mean   0.574364    2.159391       0.18333               0.958396   \n",
      "min         0.0         0.0           0.0                    0.0   \n",
      "25%         0.5         0.0           0.0                    1.0   \n",
      "50%         0.5        1.74           0.0                    1.0   \n",
      "75%         0.5        3.36           0.0                    1.0   \n",
      "max        4.25        80.0         45.35                    1.0   \n",
      "std    0.383217    2.848079      1.161609               0.170113   \n",
      "\n",
      "       total_amount  congestion_surcharge  \n",
      "count       64621.0               64621.0  \n",
      "mean      21.972127              0.681354  \n",
      "min             0.0                   0.0  \n",
      "25%           12.96                   0.0  \n",
      "50%            18.0                   0.0  \n",
      "75%           26.34                   0.0  \n",
      "max           441.0                  2.75  \n",
      "std       14.643001              1.187216  \n"
     ]
    }
   ],
   "source": [
    "# handling invalid data\n",
    "invalidList = ['fare_amount', 'extra', 'mta_tax', 'tip_amount', 'tolls_amount', 'improvement_surcharge', 'total_amount', 'congestion_surcharge']\n",
    "for invalid in invalidList:\n",
    "    tripdata_df = tripdata_df[tripdata_df[invalid]>= 0]\n",
    "\n",
    "# checking if invalid data was handled; the min which used to be negative is now corrected\n",
    "print(tripdata_df.describe())\n"
   ]
  },
  {
   "cell_type": "markdown",
   "metadata": {},
   "source": [
    "<span style='color:red'>**Answer the following questions using the prepared data.**</span>"
   ]
  },
  {
   "cell_type": "markdown",
   "metadata": {},
   "source": [
    "## 6. Data Visualization (10 pts) \n",
    "Create bar charts that show: \n",
    "1. the most common way that New Yorkers request/hail a cab. \n",
    "2. the most common pick-up locations (display the top 5 locations). \n",
    "3. the most common drop-off locations (display the top 5 locations). \n",
    "\n",
    "Explain each chart."
   ]
  },
  {
   "cell_type": "code",
   "execution_count": 25,
   "metadata": {},
   "outputs": [
    {
     "name": "stdout",
     "output_type": "stream",
     "text": [
      "Axes(0.125,0.11;0.775x0.77)\n",
      "This bar chart shows the different trip types that New Yorkers used. The two different trip types they used were requesting or hailing a cab. The bar chart shows that mostly all New Yorkers street hailed a cab rather than dispatching a cab.\n"
     ]
    },
    {
     "data": {
      "image/png": "[encoded data removed]",
      "text/plain": [
       "<Figure size 640x480 with 1 Axes>"
      ]
     },
     "metadata": {},
     "output_type": "display_data"
    }
   ],
   "source": [
    "# bar chart for ways New Yorkers requested/hailed a cab\n",
    "print(tripdata_df['trip_type'].value_counts().plot(kind = 'bar'))\n",
    "print(\"This bar chart shows the different trip types that New Yorkers used.\",\n",
    "      \"The two different trip types they used were requesting or hailing a cab.\"\n",
    "      , \"The bar chart shows that mostly all New Yorkers street hailed a cab rather than dispatching a cab.\")"
   ]
  },
  {
   "cell_type": "code",
   "execution_count": 26,
   "metadata": {},
   "outputs": [
    {
     "name": "stdout",
     "output_type": "stream",
     "text": [
      "Axes(0.125,0.11;0.775x0.77)\n",
      "74 : Manhattan East Harlem North Boro Zone; 75 : Manhattan East Harlem South Boro Zone; 166 : Brooklyn Midwood Boro Zone; 41 : Manhattan Central Harlem Boro Zone; 95 : Queens Forest Hills Boro Zone\n",
      "This bar chart shows that the most common pick up zone is in East Harlem North in Manhattan and the least common out of the top 5 common pick up zone is in Queens Forest Hills.\n"
     ]
    },
    {
     "data": {
      "image/png": "[encoded data removed]",
      "text/plain": [
       "<Figure size 640x480 with 1 Axes>"
      ]
     },
     "metadata": {},
     "output_type": "display_data"
    }
   ],
   "source": [
    "# show locations for most pickup\n",
    "print(tripdata_df['PULocationID'].value_counts().head(5).plot(kind = 'bar'))\n",
    "print(74, \": Manhattan East Harlem North Boro Zone;\", 75, \": Manhattan East Harlem South Boro Zone;\", 166,\": Brooklyn Midwood Boro Zone;\", \n",
    "41, \": Manhattan Central Harlem Boro Zone;\", 95,\": Queens Forest Hills Boro Zone\")\n",
    "\n",
    "print(\"This bar chart shows that the most common pick up zone is in East Harlem North in Manhattan and the least common out of the\",\n",
    "      \"top 5 common pick up zone is in Queens Forest Hills.\")"
   ]
  },
  {
   "cell_type": "code",
   "execution_count": 27,
   "metadata": {},
   "outputs": [
    {
     "name": "stdout",
     "output_type": "stream",
     "text": [
      "Axes(0.125,0.11;0.775x0.77)\n",
      "74 : Manhattan East Harlem North Boro Zone; 75 : Manhattan East Harlem South Boro Zone; 236 Manhattan Upper East Side North Yellow Zone 41 : Manhattan Central Harlem Boro Zone; 42 Manhattan Central Harlem North Boro Zone\n",
      "This bar chart shows that the most common drop off zone is the same as the most common pickup zine being Manhattan East Harlem North Boro Zone and the least common out of the most common 5 drop off zone is Central Harlem.\n"
     ]
    },
    {
     "data": {
      "image/png": "[encoded data removed]",
      "text/plain": [
       "<Figure size 640x480 with 1 Axes>"
      ]
     },
     "metadata": {},
     "output_type": "display_data"
    }
   ],
   "source": [
    "# the top 5 locations for drop off\n",
    "print(tripdata_df['DOLocationID'].value_counts().head(5).plot(kind = 'bar'))\n",
    "print(74, \": Manhattan East Harlem North Boro Zone;\", 75, \": Manhattan East Harlem South Boro Zone;\", 236,\"Manhattan Upper East Side North Yellow Zone\", \n",
    "41, \": Manhattan Central Harlem Boro Zone;\", 42,\"Manhattan Central Harlem North Boro Zone\")\n",
    "print(\"This bar chart shows that the most common drop off zone is the same as the most common pickup zine being Manhattan East Harlem\",\n",
    "\"North Boro Zone and the least common out of the most common 5 drop off zone is Central Harlem.\")"
   ]
  },
  {
   "cell_type": "markdown",
   "metadata": {},
   "source": [
    "## 7. Data Analysis (10 pts)\n",
    "Write suitable code to answer the following:\n",
    "1. On average, how far do New Yorkers usually travel using these taxis?\n",
    "2. What is the most expensive and least expensive trip? \n",
    "3. What is the minimum, average and maximum **tip amount** for all trips that are 1) under 2 miles and 2) over 2 miles (i.e. >= 2)? \n",
    "\n",
    "Explain the results.\n",
    "\n",
    "*`TIP`: If the answers from your analysis in this question contains erroneous or invalid numeric values, this means that the data needs to be cleaned to ensure that the analytical results are coherent.*"
   ]
  },
  {
   "cell_type": "code",
   "execution_count": 29,
   "metadata": {
    "scrolled": true
   },
   "outputs": [
    {
     "name": "stdout",
     "output_type": "stream",
     "text": [
      "On average, New Yorkers usually travel 13.74 miles using these taxis\n",
      "The most expensive trip cost $ 441.00\n",
      "The least expensive trip cost $ 0.00\n",
      "The maximum tip for trips under 2 miles is $ 80.00\n",
      "The minimum tip for trips under 2 miles is $ 0.00\n",
      "The average tip for trips under 2 miles is $ 1.35\n",
      "The maximum tip for trips over 2 miles is $ 75.82\n",
      "The minimum tip for trips over 2 miles is $ 0.00\n",
      "The average tip for trips over 2 miles is $ 3.06\n",
      "New Yorkers generally do not travel that far using taxis as the average is 13.74 miles. There have been times where trips have been given where no amount was paid and there have been times where trips have been very expensive with the most expensive trip being $441 dollars. Generally, people don't tip taxi drivers a lot, with the average being $1.35 and the minimum being nothing. However, there have been times where people have tipped a great amount, with the maximum tip being $80. This is all under 2 miles though. Contrary to trips under 2 miles, trips over 2 miles generally receive a greater average of tips with it being $3.06. The maximum tip for trips over 2 miles is less than the maximum for trips under 2 miles.\n"
     ]
    }
   ],
   "source": [
    "# calculate the average of how far NYers usually travel\n",
    "average = tripdata_df['trip_distance'].mean()\n",
    "print(\"On average, New Yorkers usually travel\" ,\"{:.2f}\".format(average), \"miles using these taxis\")\n",
    "\n",
    "# calculate the most and least expensive trip\n",
    "max = tripdata_df['total_amount'].max()\n",
    "min = tripdata_df['total_amount'].min()\n",
    "print(\"The most expensive trip cost $\", \"{:.2f}\".format(max))\n",
    "print(\"The least expensive trip cost $\", \"{:.2f}\".format(min))\n",
    "\n",
    "# calculate the min, avg, and max tip amount for trips under 2 miles\n",
    "maxTipUnder2 = tripdata_df[tripdata_df['trip_distance']<2]['tip_amount'].max()\n",
    "print(\"The maximum tip for trips under 2 miles is $\",\"{:.2f}\".format(maxTipUnder2))\n",
    "\n",
    "minTipUnder2 = tripdata_df[tripdata_df['trip_distance']<2]['tip_amount'].min()\n",
    "print(\"The minimum tip for trips under 2 miles is $\",\"{:.2f}\".format(minTipUnder2))\n",
    "\n",
    "avgTipUnder2 = tripdata_df[tripdata_df['trip_distance']<2]['tip_amount'].mean()\n",
    "print(\"The average tip for trips under 2 miles is $\",\"{:.2f}\".format(avgTipUnder2))\n",
    "\n",
    "# calculate the min, avg, and max tip amount for trips over 2 miles\n",
    "maxTipOver2 = tripdata_df[tripdata_df['trip_distance']>=2]['tip_amount'].max()\n",
    "print(\"The maximum tip for trips over 2 miles is $\",\"{:.2f}\".format(maxTipOver2))\n",
    "\n",
    "minTipOver2 = tripdata_df[tripdata_df['trip_distance']>=2]['tip_amount'].min()\n",
    "print(\"The minimum tip for trips over 2 miles is $\",\"{:.2f}\".format(minTipOver2))\n",
    "\n",
    "avgTipOver2 = tripdata_df[tripdata_df['trip_distance']>=2]['tip_amount'].mean()\n",
    "print(\"The average tip for trips over 2 miles is $\",\"{:.2f}\".format(avgTipOver2))\n",
    "\n",
    "print(\"New Yorkers generally do not travel that far using taxis as the average is 13.74 miles.\",\n",
    "      \"There have been times where trips have been given where no amount was paid and\",\n",
    "      \"there have been times where trips have been very expensive with the most expensive trip\",\n",
    "      \"being $441 dollars. Generally, people don't tip taxi drivers a lot, with the average\",\n",
    "      \"being $1.35 and the minimum being nothing. However, there have been times where people\",\n",
    "      \"have tipped a great amount, with the maximum tip being $80. This is all under 2 miles though.\",\n",
    "      \"Contrary to trips under 2 miles, trips over 2 miles generally receive a greater average of tips with it\",\n",
    "      \"being $3.06. The maximum tip for trips over 2 miles is less than the maximum for trips under 2 miles.\")"
   ]
  },
  {
   "cell_type": "markdown",
   "metadata": {},
   "source": [
    "## 8. Findings (3 pts)\n",
    "Based on the preliminary analysis, is this data a viable source that can be used by your team in the future to understand how New Yorkers use these taxis? Justify your response."
   ]
  },
  {
   "cell_type": "markdown",
   "metadata": {},
   "source": [
    "Based on the preliminary analysis, the data is a viable source and can be used by our team in the future to understand how New Yorkers use these taxis. The data is a viable source that can be used because I went through the data to clean it up properly in order to make it usable. Previously, there were great amounts of missing data, such as ehail_fee having 100% of its data missing from the data frame. As all of the data was missing and there was no way to impute it, I made the decision to remove it from the data frame. There were other variables that had missing variables but not at such a great percentage, in which, we were able to impute the data to the most frequently occuring one, in order to use these variables later on. There was also invalid data, in which there were negative amounts, in which I dealt with them in order to make the data a more viable source. Additionally, because our domain is just based on taxi rides and trip data, it is a more viable source that can be used as opposed to if we were dealong with medical data, since altering medical data could be life threatening."
   ]
  }
 ],
 "metadata": {
  "kernelspec": {
   "display_name": "Python 3 (ipykernel)",
   "language": "python",
   "name": "python3"
  },
  "language_info": {
   "codemirror_mode": {
    "name": "ipython",
    "version": 3
   },
   "file_extension": ".py",
   "mimetype": "text/x-python",
   "name": "python",
   "nbconvert_exporter": "python",
   "pygments_lexer": "ipython3",
   "version": "3.12.4"
  }
 },
 "nbformat": 4,
 "nbformat_minor": 4
}
